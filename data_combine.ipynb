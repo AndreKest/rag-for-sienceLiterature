{
 "cells": [
  {
   "cell_type": "code",
   "execution_count": 8,
   "metadata": {},
   "outputs": [],
   "source": [
    "import os\n",
    "\n",
    "import numpy as np\n",
    "import pandas as pd\n",
    "\n",
    "import pprint"
   ]
  },
  {
   "cell_type": "code",
   "execution_count": 12,
   "metadata": {},
   "outputs": [
    {
     "name": "stdout",
     "output_type": "stream",
     "text": [
      "Start for ACL-main\n",
      "Num files:  15\n",
      "Finished for ACL-main\n",
      "Start for ACL-findings\n",
      "Num files:  4\n",
      "Finished for ACL-findings\n",
      "Start for EMNLP-main\n",
      "Num files:  15\n",
      "Finished for EMNLP-main\n",
      "Start for EMNLP-findings\n",
      "Num files:  5\n",
      "Finished for EMNLP-findings\n",
      "Start for NAACL-main\n",
      "Num files:  10\n",
      "Finished for NAACL-main\n",
      "Start for NAACL-findings\n",
      "Num files:  2\n",
      "Finished for NAACL-findings\n",
      "Start for EACL-main\n",
      "Num files:  6\n",
      "Finished for EACL-main\n",
      "Start for EACL-findings\n",
      "Num files:  2\n",
      "Finished for EACL-findings\n"
     ]
    }
   ],
   "source": [
    "# Read data\n",
    "conferences = ['ACL', 'EMNLP', 'NAACL', 'EACL']\n",
    "positions = ['main', 'findings']\n",
    "\n",
    "for conference in conferences:\n",
    "    for position in positions:\n",
    "        print(f\"Start for {conference}-{position}\")\n",
    "        \n",
    "        data_path = f'./data/{conference}/{position}'\n",
    "\n",
    "        data_files = [os.path.join(data_path, f) for f in os.listdir(data_path) if f.endswith('.pkl')]\n",
    "        print(\"Num files: \", len(data_files))\n",
    "\n",
    "        data = pd.concat([pd.read_pickle(f) for f in data_files], ignore_index=True)\n",
    "\n",
    "        data['position'] = position\n",
    "\n",
    "        # Drop row where references if empty or NULL\n",
    "        idx_drop = data['text'].index[data['references'].isnull()]\n",
    "        data.drop(idx_drop, inplace=True)\n",
    "        idx_drop = data['text'].index[data['references'] == '']\n",
    "        data.drop(idx_drop, inplace=True)\n",
    "\n",
    "        # Drop all rows where titel contains 'Proceedings of the [0-9]*(?:st|nd|rd|th) Annual Meeting of the Association for Computational Linguistics'\n",
    "        idx_drop = data['titel'].index[data['titel'].str.contains(r'Proceedings of the [0-9]*(?:st|nd|rd|th) Annual Meeting of the Association for Computational Linguistics')]\n",
    "        data.drop(idx_drop, inplace=True)\n",
    "        # Drop all rows where titel contains 'Findings of the Association for Computational Linguistic'\n",
    "        idx_drop = data['titel'].index[data['titel'].str.contains(r'Findings of the Association for Computational Linguistic')]\n",
    "        data.drop(idx_drop, inplace=True)\n",
    "\n",
    "        # Save \n",
    "        data.to_pickle(f'data/{conference}_{position}.pkl')\n",
    "        print(f\"Finished for {conference}-{position}\")"
   ]
  }
 ],
 "metadata": {
  "kernelspec": {
   "display_name": "Python 3 (ipykernel)",
   "language": "python",
   "name": "python3"
  },
  "language_info": {
   "codemirror_mode": {
    "name": "ipython",
    "version": 3
   },
   "file_extension": ".py",
   "mimetype": "text/x-python",
   "name": "python",
   "nbconvert_exporter": "python",
   "pygments_lexer": "ipython3",
   "version": "3.10.12"
  }
 },
 "nbformat": 4,
 "nbformat_minor": 4
}
