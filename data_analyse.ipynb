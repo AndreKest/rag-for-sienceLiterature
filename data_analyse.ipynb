{
 "cells": [
  {
   "cell_type": "code",
   "execution_count": 1,
   "metadata": {},
   "outputs": [],
   "source": [
    "import os\n",
    "\n",
    "import numpy as np\n",
    "import pandas as pd\n",
    "\n",
    "import pprint"
   ]
  },
  {
   "cell_type": "code",
   "execution_count": 10,
   "metadata": {},
   "outputs": [
    {
     "name": "stdout",
     "output_type": "stream",
     "text": [
      "Num files:  15\n"
     ]
    }
   ],
   "source": [
    "# Read data\n",
    "# Create a list with all paths to the csv data files in emnlp data\n",
    "data_path = 'data/EMNLP'\n",
    "data_files = [os.path.join(data_path, f) for f in os.listdir(data_path) if f.endswith('.pkl')]\n",
    "\n",
    "print(\"Num files: \", len(data_files))\n",
    "\n",
    "# Combine all data into one dataframe\n",
    "data_emnlp = pd.concat([pd.read_pickle(f) for f in data_files], ignore_index=True)\n",
    "data_emnlp['conference'] = 'emnlp'"
   ]
  },
  {
   "cell_type": "code",
   "execution_count": 11,
   "metadata": {},
   "outputs": [
    {
     "name": "stdout",
     "output_type": "stream",
     "text": [
      "Num files:  15\n"
     ]
    }
   ],
   "source": [
    "# Read data from\n",
    "data_path = 'data/ACL'\n",
    "data_files = [os.path.join(data_path, f) for f in os.listdir(data_path) if f.endswith('.pkl')]\n",
    "\n",
    "print(\"Num files: \", len(data_files))\n",
    "\n",
    "# Combine all data into one dataframe\n",
    "data_acl = pd.concat([pd.read_pickle(f) for f in data_files], ignore_index=True)"
   ]
  },
  {
   "cell_type": "code",
   "execution_count": 12,
   "metadata": {},
   "outputs": [
    {
     "name": "stdout",
     "output_type": "stream",
     "text": [
      "EMNLP:  Index([], dtype='int64')\n",
      "EMNLP:  Index([1423, 1827, 1880, 1904, 2341, 2556, 2570, 2898, 2952, 3624, 3819, 5309,\n",
      "       5978, 6140, 6303, 6587, 6691, 7032, 7126, 7372, 7383, 7597],\n",
      "      dtype='int64')\n",
      "ACL:  Index([], dtype='int64')\n",
      "ACL:  Index([2833, 3067, 3328, 3830, 3927, 4602, 4708, 5345, 5655, 5820, 6107], dtype='int64')\n"
     ]
    }
   ],
   "source": [
    "# Check if reference is Null or ''\n",
    "idx_emnlp = data_emnlp['text'].index[data_emnlp['references'].isnull()]\n",
    "print(\"EMNLP: \", idx_emnlp)\n",
    "\n",
    "idx_emnlp = data_emnlp['text'].index[data_emnlp['references'] == '']\n",
    "print(\"EMNLP: \", idx_emnlp)\n",
    "\n",
    "idx_acl = data_acl['text'].index[data_acl['references'].isnull()]\n",
    "print(\"ACL: \", idx_acl)\n",
    "\n",
    "idx_acl = data_acl['text'].index[data_acl['references'] == '']\n",
    "print(\"ACL: \", idx_acl)"
   ]
  },
  {
   "cell_type": "code",
   "execution_count": 13,
   "metadata": {},
   "outputs": [],
   "source": [
    "# Drop all rows where titel contains 'Proceedings of the [0-9]*(?:st|nd|rd|th) Annual Meeting of the Association for Computational Linguistics'\n",
    "idx_drop = data_emnlp['titel'].index[data_emnlp['titel'].str.contains(r'Proceedings of the [0-9]*(?:st|nd|rd|th) Annual Meeting of the Association for Computational Linguistics')]\n",
    "data_emnlp.drop(idx_drop, inplace=True)\n",
    "\n",
    "idx_drop = data_acl['titel'].index[data_acl['titel'].str.contains(r'Proceedings of the [0-9]*(?:st|nd|rd|th) Annual Meeting of the Association for Computational Linguistics')]\n",
    "data_acl.drop(idx_drop, inplace=True)"
   ]
  },
  {
   "cell_type": "code",
   "execution_count": 14,
   "metadata": {},
   "outputs": [
    {
     "name": "stdout",
     "output_type": "stream",
     "text": [
      "EMNLP:  Index([], dtype='int64')\n",
      "EMNLP:  Index([1423, 1827, 1880, 1904, 2341, 2556, 2570, 2898, 2952, 3624, 3819, 5309,\n",
      "       5978, 6140, 6303, 6587, 6691, 7032, 7126, 7372, 7383, 7597],\n",
      "      dtype='int64')\n",
      "ACL:  Index([], dtype='int64')\n",
      "ACL:  Index([2833, 3067, 3328, 3830, 4602, 4708, 6107], dtype='int64')\n"
     ]
    }
   ],
   "source": [
    "# Check if reference is Null or ''\n",
    "idx_emnlp = data_emnlp['text'].index[data_emnlp['references'].isnull()]\n",
    "print(\"EMNLP: \", idx_emnlp)\n",
    "\n",
    "idx_emnlp = data_emnlp['text'].index[data_emnlp['references'] == '']\n",
    "print(\"EMNLP: \", idx_emnlp)\n",
    "\n",
    "idx_acl = data_acl['text'].index[data_acl['references'].isnull()]\n",
    "print(\"ACL: \", idx_acl)\n",
    "\n",
    "idx_acl = data_acl['text'].index[data_acl['references'] == '']\n",
    "print(\"ACL: \", idx_acl)"
   ]
  },
  {
   "cell_type": "code",
   "execution_count": 22,
   "metadata": {},
   "outputs": [
    {
     "name": "stdout",
     "output_type": "stream",
     "text": [
      "year\n",
      "2021    4\n",
      "2014    3\n",
      "2022    3\n",
      "2018    3\n",
      "2019    2\n",
      "2015    2\n",
      "2020    1\n",
      "2011    1\n",
      "2012    1\n",
      "2010    1\n",
      "2016    1\n",
      "Name: count, dtype: int64\n",
      "year\n",
      "2013    2\n",
      "2020    2\n",
      "2019    1\n",
      "2011    1\n",
      "2010    1\n",
      "Name: count, dtype: int64\n"
     ]
    }
   ],
   "source": [
    "# get year of acl_idx unique\n",
    "print(data_emnlp.loc[idx_emnlp, 'year'].value_counts())\n",
    "print(data_acl.loc[idx_acl, 'year'].value_counts())"
   ]
  },
  {
   "cell_type": "code",
   "execution_count": null,
   "metadata": {},
   "outputs": [],
   "source": [
    "# Print data at idx\n",
    "idx = 2\n",
    "pprint.pprint(data_emnlp.loc[idx_emnlp[idx]]['titel'])\n",
    "pprint.pprint(data_emnlp.loc[idx_emnlp[idx]]['year'])\n",
    "pprint.pprint(data_emnlp.loc[idx_emnlp[idx]]['text'])\n",
    "print(\"\\n\\n\")\n",
    "pprint.pprint(data_emnlp.loc[idx_emnlp[idx]]['references'])"
   ]
  },
  {
   "cell_type": "code",
   "execution_count": null,
   "metadata": {},
   "outputs": [],
   "source": [
    "# Print data at idx\n",
    "idx = 1\n",
    "pprint.pprint(data_acl.loc[idx_acl[idx]]['titel'])\n",
    "pprint.pprint(data_acl.loc[idx_acl[idx]]['year'])\n",
    "pprint.pprint(data_acl.loc[idx_acl[idx]]['text'])\n",
    "print(\"\\n\\n\")\n",
    "pprint.pprint(data_acl.loc[idx_acl[idx]]['references'])"
   ]
  },
  {
   "cell_type": "code",
   "execution_count": 27,
   "metadata": {},
   "outputs": [],
   "source": [
    "# Drop empty references\n",
    "data_emnlp.drop(idx_emnlp, inplace=True)\n",
    "data_acl.drop(idx_acl, inplace=True)"
   ]
  },
  {
   "cell_type": "code",
   "execution_count": 28,
   "metadata": {},
   "outputs": [
    {
     "name": "stdout",
     "output_type": "stream",
     "text": [
      "EMNLP:  Index([], dtype='int64')\n",
      "EMNLP:  Index([], dtype='int64')\n",
      "ACL:  Index([], dtype='int64')\n",
      "ACL:  Index([], dtype='int64')\n"
     ]
    }
   ],
   "source": [
    "# Check if reference is Null or ''\n",
    "idx_emnlp = data_emnlp['text'].index[data_emnlp['references'].isnull()]\n",
    "print(\"EMNLP: \", idx_emnlp)\n",
    "\n",
    "idx_emnlp = data_emnlp['text'].index[data_emnlp['references'] == '']\n",
    "print(\"EMNLP: \", idx_emnlp)\n",
    "\n",
    "idx_acl = data_acl['text'].index[data_acl['references'].isnull()]\n",
    "print(\"ACL: \", idx_acl)\n",
    "\n",
    "idx_acl = data_acl['text'].index[data_acl['references'] == '']\n",
    "print(\"ACL: \", idx_acl)"
   ]
  },
  {
   "cell_type": "code",
   "execution_count": 29,
   "metadata": {},
   "outputs": [],
   "source": [
    "data_emnlp.to_pickle('data/emnlp_main_20102024.pkl')\n",
    "data_acl.to_pickle('data/acl_main_20102024.pkl')"
   ]
  }
 ],
 "metadata": {
  "kernelspec": {
   "display_name": "agents",
   "language": "python",
   "name": "python3"
  },
  "language_info": {
   "codemirror_mode": {
    "name": "ipython",
    "version": 3
   },
   "file_extension": ".py",
   "mimetype": "text/x-python",
   "name": "python",
   "nbconvert_exporter": "python",
   "pygments_lexer": "ipython3",
   "version": "3.11.10"
  }
 },
 "nbformat": 4,
 "nbformat_minor": 2
}
